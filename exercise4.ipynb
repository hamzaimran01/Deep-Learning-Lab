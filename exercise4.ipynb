{
  "nbformat": 4,
  "nbformat_minor": 0,
  "metadata": {
    "colab": {
      "name": "exercise4.ipynb",
      "version": "0.3.2",
      "provenance": [],
      "collapsed_sections": [],
      "include_colab_link": true
    },
    "kernelspec": {
      "name": "python3",
      "display_name": "Python 3"
    },
    "accelerator": "GPU"
  },
  "cells": [
    {
      "cell_type": "markdown",
      "metadata": {
        "id": "view-in-github",
        "colab_type": "text"
      },
      "source": [
        "<a href=\"https://colab.research.google.com/github/hamzaimran01/Deep-Learning-Lab/blob/master/exercise4.ipynb\" target=\"_parent\"><img src=\"https://colab.research.google.com/assets/colab-badge.svg\" alt=\"Open In Colab\"/></a>"
      ]
    },
    {
      "metadata": {
        "id": "ZO4v9NWR2C0H",
        "colab_type": "code",
        "outputId": "e09abaa1-adfa-4069-9de7-c6cbe4fd7d02",
        "colab": {
          "base_uri": "https://localhost:8080/",
          "height": 785
        }
      },
      "cell_type": "code",
      "source": [
        "!pip install cython\n",
        "!pip install git+https://github.com/amzn/Emukit.git\n",
        "!pip install scikit-learn==0.18.1\n",
        "!pip install git+git://github.com/statsmodels/statsmodels.git\n",
        "import pickle\n",
        "import numpy as np\n",
        "import matplotlib.pyplot as plt\n",
        "\n",
        "\n",
        "\n",
        "\n",
        "\n",
        "\n"
      ],
      "execution_count": 4,
      "outputs": [
        {
          "output_type": "stream",
          "text": [
            "Requirement already satisfied: cython in /usr/local/lib/python3.6/dist-packages (0.29.2)\n",
            "Collecting git+https://github.com/amzn/Emukit.git\n",
            "  Cloning https://github.com/amzn/Emukit.git to /tmp/pip-req-build-36c50kil\n",
            "Requirement already satisfied (use --upgrade to upgrade): emukit==0.4.1 from git+https://github.com/amzn/Emukit.git in /usr/local/lib/python3.6/dist-packages\n",
            "Requirement already satisfied: numpy>=1.14.5 in /usr/local/lib/python3.6/dist-packages (from emukit==0.4.1) (1.14.6)\n",
            "Requirement already satisfied: GPy[plotting]>=1.9.5 in /usr/local/lib/python3.6/dist-packages (from emukit==0.4.1) (1.9.6)\n",
            "Requirement already satisfied: GPyOpt>=1.2.5 in /usr/local/lib/python3.6/dist-packages (from emukit==0.4.1) (1.2.5)\n",
            "Requirement already satisfied: emcee==2.2.1 in /usr/local/lib/python3.6/dist-packages (from emukit==0.4.1) (2.2.1)\n",
            "Requirement already satisfied: scipy==1.1.0 in /usr/local/lib/python3.6/dist-packages (from emukit==0.4.1) (1.1.0)\n",
            "Requirement already satisfied: paramz>=0.9.0 in /usr/local/lib/python3.6/dist-packages (from GPy[plotting]>=1.9.5->emukit==0.4.1) (0.9.4)\n",
            "Requirement already satisfied: six in /usr/local/lib/python3.6/dist-packages (from GPy[plotting]>=1.9.5->emukit==0.4.1) (1.11.0)\n",
            "Requirement already satisfied: plotly>=1.8.6; extra == \"plotting\" in /usr/local/lib/python3.6/dist-packages (from GPy[plotting]>=1.9.5->emukit==0.4.1) (1.12.12)\n",
            "Requirement already satisfied: matplotlib>=3.0; extra == \"plotting\" in /usr/local/lib/python3.6/dist-packages (from GPy[plotting]>=1.9.5->emukit==0.4.1) (3.0.2)\n",
            "Requirement already satisfied: decorator>=4.0.10 in /usr/local/lib/python3.6/dist-packages (from paramz>=0.9.0->GPy[plotting]>=1.9.5->emukit==0.4.1) (4.3.0)\n",
            "Requirement already satisfied: requests in /usr/local/lib/python3.6/dist-packages (from plotly>=1.8.6; extra == \"plotting\"->GPy[plotting]>=1.9.5->emukit==0.4.1) (2.18.4)\n",
            "Requirement already satisfied: pytz in /usr/local/lib/python3.6/dist-packages (from plotly>=1.8.6; extra == \"plotting\"->GPy[plotting]>=1.9.5->emukit==0.4.1) (2018.7)\n",
            "Requirement already satisfied: python-dateutil>=2.1 in /usr/local/lib/python3.6/dist-packages (from matplotlib>=3.0; extra == \"plotting\"->GPy[plotting]>=1.9.5->emukit==0.4.1) (2.5.3)\n",
            "Requirement already satisfied: pyparsing!=2.0.4,!=2.1.2,!=2.1.6,>=2.0.1 in /usr/local/lib/python3.6/dist-packages (from matplotlib>=3.0; extra == \"plotting\"->GPy[plotting]>=1.9.5->emukit==0.4.1) (2.3.0)\n",
            "Requirement already satisfied: kiwisolver>=1.0.1 in /usr/local/lib/python3.6/dist-packages (from matplotlib>=3.0; extra == \"plotting\"->GPy[plotting]>=1.9.5->emukit==0.4.1) (1.0.1)\n",
            "Requirement already satisfied: cycler>=0.10 in /usr/local/lib/python3.6/dist-packages (from matplotlib>=3.0; extra == \"plotting\"->GPy[plotting]>=1.9.5->emukit==0.4.1) (0.10.0)\n",
            "Requirement already satisfied: chardet<3.1.0,>=3.0.2 in /usr/local/lib/python3.6/dist-packages (from requests->plotly>=1.8.6; extra == \"plotting\"->GPy[plotting]>=1.9.5->emukit==0.4.1) (3.0.4)\n",
            "Requirement already satisfied: idna<2.7,>=2.5 in /usr/local/lib/python3.6/dist-packages (from requests->plotly>=1.8.6; extra == \"plotting\"->GPy[plotting]>=1.9.5->emukit==0.4.1) (2.6)\n",
            "Requirement already satisfied: certifi>=2017.4.17 in /usr/local/lib/python3.6/dist-packages (from requests->plotly>=1.8.6; extra == \"plotting\"->GPy[plotting]>=1.9.5->emukit==0.4.1) (2018.11.29)\n",
            "Requirement already satisfied: urllib3<1.23,>=1.21.1 in /usr/local/lib/python3.6/dist-packages (from requests->plotly>=1.8.6; extra == \"plotting\"->GPy[plotting]>=1.9.5->emukit==0.4.1) (1.22)\n",
            "Requirement already satisfied: setuptools in /usr/local/lib/python3.6/dist-packages (from kiwisolver>=1.0.1->matplotlib>=3.0; extra == \"plotting\"->GPy[plotting]>=1.9.5->emukit==0.4.1) (40.6.3)\n",
            "Building wheels for collected packages: emukit\n",
            "  Running setup.py bdist_wheel for emukit ... \u001b[?25l-\b \b\\\b \bdone\n",
            "\u001b[?25h  Stored in directory: /tmp/pip-ephem-wheel-cache-0t6buuop/wheels/f5/28/e0/ef97f281ab5b95ff21003339799dc03f31e7f45575859508cb\n",
            "Successfully built emukit\n",
            "Requirement already satisfied: scikit-learn==0.18.1 in /usr/local/lib/python3.6/dist-packages (0.18.1)\n",
            "Collecting git+git://github.com/statsmodels/statsmodels.git\n",
            "  Cloning git://github.com/statsmodels/statsmodels.git to /tmp/pip-req-build-0vscbgi1\n",
            "Requirement already satisfied (use --upgrade to upgrade): statsmodels==0.10.0.dev0+907.g105832d5e from git+git://github.com/statsmodels/statsmodels.git in /usr/local/lib/python3.6/dist-packages\n",
            "Requirement already satisfied: numpy>=1.11 in /usr/local/lib/python3.6/dist-packages (from statsmodels==0.10.0.dev0+907.g105832d5e) (1.14.6)\n",
            "Requirement already satisfied: scipy>=0.18 in /usr/local/lib/python3.6/dist-packages (from statsmodels==0.10.0.dev0+907.g105832d5e) (1.1.0)\n",
            "Requirement already satisfied: pandas>=0.19 in /usr/local/lib/python3.6/dist-packages (from statsmodels==0.10.0.dev0+907.g105832d5e) (0.22.0)\n",
            "Requirement already satisfied: patsy>=0.4.0 in /usr/local/lib/python3.6/dist-packages (from statsmodels==0.10.0.dev0+907.g105832d5e) (0.5.1)\n",
            "Requirement already satisfied: pytz>=2011k in /usr/local/lib/python3.6/dist-packages (from pandas>=0.19->statsmodels==0.10.0.dev0+907.g105832d5e) (2018.7)\n",
            "Requirement already satisfied: python-dateutil>=2 in /usr/local/lib/python3.6/dist-packages (from pandas>=0.19->statsmodels==0.10.0.dev0+907.g105832d5e) (2.5.3)\n",
            "Requirement already satisfied: six in /usr/local/lib/python3.6/dist-packages (from patsy>=0.4.0->statsmodels==0.10.0.dev0+907.g105832d5e) (1.11.0)\n",
            "Building wheels for collected packages: statsmodels\n",
            "  Running setup.py bdist_wheel for statsmodels ... \u001b[?25l-\b \b\\\b \b|\b \b/\b \b-\b \b\\\b \b|\b \b/\b \b-\b \b\\\b \b|\b \b/\b \b-\b \b\\\b \b|\b \b/\b \b-\b \b\\\b \b|\b \b/\b \b-\b \b\\\b \b|\b \b/\b \b-\b \b\\\b \b|\b \b/\b \bdone\n",
            "\u001b[?25h  Stored in directory: /tmp/pip-ephem-wheel-cache-d8197p6r/wheels/7c/fb/6c/55f97915909f91018ca94d3ae87b751f972120bcda799c3528\n",
            "Successfully built statsmodels\n"
          ],
          "name": "stdout"
        }
      ]
    },
    {
      "metadata": {
        "id": "dNd5Rv-8lnTY",
        "colab_type": "code",
        "colab": {
          "resources": {
            "http://localhost:8080/nbextensions/google.colab/files.js": {
              "data": "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",
              "ok": true,
              "headers": [
                [
                  "content-type",
                  "application/javascript"
                ]
              ],
              "status": 200,
              "status_text": ""
            }
          },
          "base_uri": "https://localhost:8080/",
          "height": 140
        },
        "outputId": "09be442b-da49-4d5e-9d84-af181b0ec3d4"
      },
      "cell_type": "code",
      "source": [
        "!pip install -U -q PyDrive ## you will have install for every colab session\n",
        "\n",
        "from pydrive.auth import GoogleAuth\n",
        "from pydrive.drive import GoogleDrive\n",
        "from google.colab import auth\n",
        "from oauth2client.client import GoogleCredentials\n",
        "\n",
        "     # 1. Authenticate and create the PyDrive client.\n",
        "auth.authenticate_user()\n",
        "gauth = GoogleAuth()\n",
        "gauth.credentials = GoogleCredentials.get_application_default()\n",
        "drive = GoogleDrive(gauth)\n",
        "      \n",
        "      \n",
        "      \n",
        "from google.colab import files\n",
        "\n",
        "uploaded = files.upload()\n",
        "\n",
        "for fn in uploaded.keys():\n",
        "    print('User uploaded file \"{name}\" with length {length} bytes'.format(name=fn, length=len(uploaded[fn])))"
      ],
      "execution_count": 5,
      "outputs": [
        {
          "output_type": "display_data",
          "data": {
            "text/html": [
              "\n",
              "     <input type=\"file\" id=\"files-57590edb-0d93-454b-a70f-e2e6e7b20db5\" name=\"files[]\" multiple disabled />\n",
              "     <output id=\"result-57590edb-0d93-454b-a70f-e2e6e7b20db5\">\n",
              "      Upload widget is only available when the cell has been executed in the\n",
              "      current browser session. Please rerun this cell to enable.\n",
              "      </output>\n",
              "      <script src=\"/nbextensions/google.colab/files.js\"></script> "
            ],
            "text/plain": [
              "<IPython.core.display.HTML object>"
            ]
          },
          "metadata": {
            "tags": []
          }
        },
        {
          "output_type": "stream",
          "text": [
            "Saving rf_cost_surrogate_cnn.pkl to rf_cost_surrogate_cnn.pkl\n",
            "Saving rf_surrogate_cnn.pkl to rf_surrogate_cnn.pkl\n",
            "User uploaded file \"rf_cost_surrogate_cnn.pkl\" with length 82645532 bytes\n",
            "User uploaded file \"rf_surrogate_cnn.pkl\" with length 76764444 bytes\n"
          ],
          "name": "stdout"
        }
      ]
    },
    {
      "metadata": {
        "id": "xxwlR5Lo2C0k",
        "colab_type": "text"
      },
      "cell_type": "markdown",
      "source": [
        "In this exercise we will learn how Bayesian optimization and Hyperband works and how we can combine them to optimize the hyperparameters of a convolutional neural network (CNN) on CIFAR-10. The architecture consists of 3 convolutional layers (with RELU activations and batch norm) and one final fully-connected layer. We use Adam to optimize the weights of the network.\n",
        "\n",
        "\n",
        "Before you start, make sure that you installed the following dependencies:\n",
        "- numpy (pip install numpy)\n",
        "- scipy (pip install scipy)\n",
        "- sklearn (pip install sklearn==0.18.1) Note: The random forest surrogate was trained with sklearn version  0.18.1 . Newer versions should also work but probably generate some warnings and in future might lead to slightly different results.\n",
        "- emukit (pip install git+https://github.com/amzn/Emukit.git)\n",
        "- statsmodel (pip install git+git://github.com/statsmodels/statsmodels.git) you might also need cython for that (pip install cython)"
      ]
    },
    {
      "metadata": {
        "id": "nDZPYYaT2C0q",
        "colab_type": "text"
      },
      "cell_type": "markdown",
      "source": [
        "# To avoid spending too much time training CNNs, we will not optimize the original benchmark but instead optimize a so-called surrogate benchmark. A surrogate benchmark is basically just a regression model (in our case a random forest) that was trained on a large set of randomly sampled hyperparameter configurations of the original benchmark (CNNs in our case).\n",
        "Now to evaluate a hyperparameter configuration, we do not actually train the CNN but use the prediction of the regression model, which is much faster to evaluate (miliseconds). We can do that not only for the validation error but also for the training time of the CNN. Obviously, our surrogate is only an approximation of the true benchmark, however just for developing new hyperparameter optimization methods it should be sufficient. You can download the surrogates [here](http://www.ml4aad.org/wp-content/uploads/2018/12/surrogates_cnn.tar.gz).\n",
        "\n",
        "As in the previous exercises, please hand in a 1 to 2 pages report about what you did."
      ]
    },
    {
      "metadata": {
        "id": "EkDe9X982C0v",
        "colab_type": "code",
        "colab": {}
      },
      "cell_type": "code",
      "source": [
        "\n",
        "\n",
        "\n",
        "from copy import deepcopy\n",
        "\n",
        "rf = pickle.load(open(\"rf_surrogate_cnn.pkl\", \"rb\"))\n",
        "cost_rf = pickle.load(open(\"rf_cost_surrogate_cnn.pkl\", \"rb\"))\n",
        "\n",
        "def objective_function(x, epoch=40):\n",
        "    \"\"\"\n",
        "    Function wrapper to approximate the validation error after N epochs of the hyperparameter configurations\n",
        "    x by the prediction of a surrogate regression model, which was trained on the validation error of \n",
        "    randomly sampled hyperparameter configurations.\n",
        "    \"\"\"\n",
        "    \n",
        "    # normalize all hyperparameter to be in [0, 1]\n",
        "    x_norm = deepcopy(x)\n",
        "    x_norm[0] = (x[0] - (-6)) / (0 - (-6))\n",
        "    x_norm[1] = (x[1] - 32) / (512 - 32)\n",
        "    x_norm[2] = (x[2] - 4) / (10 - 4)\n",
        "    x_norm[3] = (x[3] - 4) / (10 - 4)\n",
        "    x_norm[4] = (x[4] - 4) / (10 - 4)\n",
        "    \n",
        "\n",
        "    x_norm = np.append(x_norm, epoch)\n",
        "    \n",
        "        \n",
        "    y = rf.predict(x_norm[None, :])[0]\n",
        "\n",
        "    return y\n",
        "\n",
        "def runtime(x, epoch=40):\n",
        "    \"\"\"\n",
        "    Function wrapper to approximate the training time of the hyperparameter configurations x.\n",
        "    \"\"\"\n",
        "    \n",
        "    # normalize all hyperparameter to be in [0, 1]\n",
        "    x_norm = deepcopy(x)\n",
        "    x_norm[0] = (x[0] - (-6)) / (0 - (-6))\n",
        "    x_norm[1] = (x[1] - 32) / (512 - 32)\n",
        "    x_norm[2] = (x[2] - 4) / (10 - 4)\n",
        "    x_norm[3] = (x[3] - 4) / (10 - 4)\n",
        "    x_norm[4] = (x[4] - 4) / (10 - 4)\n",
        "    \n",
        "\n",
        "    x_norm = np.append(x_norm, epoch)\n",
        "    y = cost_rf.predict(x_norm[None, :])[0]\n",
        "\n",
        "    return y"
      ],
      "execution_count": 0,
      "outputs": []
    },
    {
      "metadata": {
        "id": "G2ilBwmqNeZX",
        "colab_type": "code",
        "colab": {}
      },
      "cell_type": "code",
      "source": [
        ""
      ],
      "execution_count": 0,
      "outputs": []
    },
    {
      "metadata": {
        "id": "NfU-ARgZljQ_",
        "colab_type": "text"
      },
      "cell_type": "markdown",
      "source": [
        "# New Section"
      ]
    },
    {
      "metadata": {
        "id": "1L4E3yMxxENG",
        "colab_type": "text"
      },
      "cell_type": "markdown",
      "source": [
        "\n"
      ]
    },
    {
      "metadata": {
        "id": "PEwZZ6lh2C05",
        "colab_type": "text"
      },
      "cell_type": "markdown",
      "source": [
        "# Bayesian optimization"
      ]
    },
    {
      "metadata": {
        "id": "cVKZcaZ52C08",
        "colab_type": "text"
      },
      "cell_type": "markdown",
      "source": [
        "We will use [emukit](https://github.com/amzn/emukit) for the Bayesian optimization part of this exercise. Have a look on [the emukit tutorial](https://github.com/amzn/emukit/blob/develop/notebooks/Emukit-tutorial-Bayesian-optimization-introduction.ipynb) for Bayesian optimization to get familiar with it.\n",
        "\n",
        "The first thing we need to do is to define the configuration space for our CNN surrogate benchmark. We will optimize the learning rate, batch size and the number of filters in each of the 3 convolutional layers and for convenience treat all hyperparamters as continuous variables. For the learning rate and the number of filters it is usually good practice to optimize it on a logarithmic scale. Because of that we optimize the exponent in $log\\alpha \\in [-6, -1]$ and then in the objective function set the learning rate to $\\alpha = 10^{log\\alpha}$ (this is handled by our surrogate). For the number of filters $n$ we use a base of 2, i e. $log n \\in [4, 10]$ and $n = 2^{log n}$."
      ]
    },
    {
      "metadata": {
        "id": "rc8LeiU22C0_",
        "colab_type": "code",
        "colab": {}
      },
      "cell_type": "code",
      "source": [
        "from emukit.core import ContinuousParameter, ParameterSpace\n",
        "\n",
        "list_params = []\n",
        "list_params.append(ContinuousParameter(\"learning_rate\",-6, -1))\n",
        "list_params.append(ContinuousParameter(\"batch_size\",32, 512))\n",
        "list_params.append(ContinuousParameter(\"n_filters_1\", 4, 10))\n",
        "list_params.append(ContinuousParameter(\"n_filters_2\", 4, 10))\n",
        "list_params.append(ContinuousParameter(\"n_filters_3\", 4, 10))\n",
        "\n",
        "space = ParameterSpace(list_params)"
      ],
      "execution_count": 0,
      "outputs": []
    },
    {
      "metadata": {
        "id": "23H5dXCf2C1J",
        "colab_type": "text"
      },
      "cell_type": "markdown",
      "source": [
        "## Initial Design"
      ]
    },
    {
      "metadata": {
        "id": "xhK9sAgS2C1L",
        "colab_type": "text"
      },
      "cell_type": "markdown",
      "source": [
        "As we have learned in the lecture, Bayesian optimization internally uses a model to guide the search. However, in order to train a model we first need data. Thus, we will first use a so called initial design to collect some data points before we start with the actual Bayesian optimization loop. Here we will simply draw and evaluate N random configurations. However, one could do more sophisticated things such as experimental design or multi-task learning to warmstart the optimization procedure."
      ]
    },
    {
      "metadata": {
        "id": "rtyNnBWw2C1O",
        "colab_type": "code",
        "outputId": "7c02c830-c8aa-4185-adc1-fc2fab7d2d82",
        "colab": {
          "base_uri": "https://localhost:8080/",
          "height": 85
        }
      },
      "cell_type": "code",
      "source": [
        "from emukit.experimental_design.model_free.random_design import RandomDesign\n",
        "from scipy import sparse\n",
        "\n",
        "n_init = 2  # n points ,x dimensions\n",
        "\n",
        "# TODO: draw n_init configurations randomly \n",
        "\n",
        "rd = RandomDesign(space)\n",
        "X_init = rd.get_samples(n_init)\n",
        "y_temp=[]\n",
        "Y_init=[]\n",
        "\n",
        "\n",
        "print(X_init.shape)\n",
        "\n",
        "# TODO: evaluate all configurations and store them\n",
        "for i in range (n_init):\n",
        "  \n",
        "  y_temp.append(objective_function(X_init[i]))#we'll get all the y values here\n",
        "  \n",
        "Y_init =np.array([y_temp])\n",
        "\n",
        "\n",
        "#np.reshape(Y_init,(n_init,1))\n",
        "\n",
        "print(Y_init.shape)\n",
        "\n",
        "Y_init=np.reshape(Y_init,(n_init,1))\n",
        "\n",
        "\n",
        "\n",
        "\n",
        "print(X_init.shape)\n",
        "print(Y_init.shape)\n",
        "\n",
        "\n",
        "\n",
        "\n",
        "\n",
        "  \n",
        "\n",
        "\n",
        "\n",
        "\n"
      ],
      "execution_count": 139,
      "outputs": [
        {
          "output_type": "stream",
          "text": [
            "(2, 5)\n",
            "(1, 2)\n",
            "(2, 5)\n",
            "(2, 1)\n"
          ],
          "name": "stdout"
        }
      ]
    },
    {
      "metadata": {
        "id": "JbnHca_tgKdE",
        "colab_type": "code",
        "colab": {}
      },
      "cell_type": "code",
      "source": [
        ""
      ],
      "execution_count": 0,
      "outputs": []
    },
    {
      "metadata": {
        "id": "gvhs-mO62C1Y",
        "colab_type": "text"
      },
      "cell_type": "markdown",
      "source": [
        "## BO components"
      ]
    },
    {
      "metadata": {
        "id": "cXP7VF342C1b",
        "colab_type": "text"
      },
      "cell_type": "markdown",
      "source": [
        "Before we implement the main loop, we have to define the ingredients that are needed for Bayesian optimization:\n",
        "* a Gaussian process as a probabilistic model for the objective function\n",
        "* Expected improvement as the acquisition function\n",
        "* an optimizer for the acquistion function"
      ]
    },
    {
      "metadata": {
        "id": "VurV4RLJ2C1f",
        "colab_type": "code",
        "colab": {}
      },
      "cell_type": "code",
      "source": [
        "import GPy\n",
        "from emukit.model_wrappers.gpy_model_wrappers import GPyModelWrapper\n",
        "from emukit.bayesian_optimization.acquisitions import ExpectedImprovement\n",
        "from emukit.core.optimization import AcquisitionOptimizer\n",
        "\n",
        "kernel = GPy.kern.Matern52(X_init.shape[1], ARD=True)\n",
        "\n",
        "gp = GPyModelWrapper(GPy.models.GPRegression(X_init, Y_init, kernel, noise_var=1e-10))\n",
        "ei = ExpectedImprovement(gp)#acquisition function\n",
        "\n",
        "optimizer = AcquisitionOptimizer(space)\n"
      ],
      "execution_count": 0,
      "outputs": []
    },
    {
      "metadata": {
        "id": "1BgjV6V02C1n",
        "colab_type": "text"
      },
      "cell_type": "markdown",
      "source": [
        "## BO loop"
      ]
    },
    {
      "metadata": {
        "id": "icr_wFJj2C1o",
        "colab_type": "text"
      },
      "cell_type": "markdown",
      "source": [
        "Now we can implement the main loop which 1. optimizes the acquisition function, 2. evaluates the objective function 3. augments our dataset and updates our model.\n",
        "Additionally we will also keep track of the current best solution we have found (dubbed incumbent) which BO will ultimately return to the user. Again, there are differnt possible ways to identify the incumbent. Here, we will simply use the best observed configuration, but for instance one could also optimize the posterior mean.\n",
        "\n",
        "To estimate how much time it would have taken to evaluate the real instead of the surrogate benchmark, we also predict the training time of each hyperparameter configuration and plot the incumbent performance over the cumulative runtime."
      ]
    },
    {
      "metadata": {
        "id": "wtlRyYkT2C1r",
        "colab_type": "code",
        "outputId": "198aab80-2680-4743-fd7c-4b31928948cc",
        "colab": {
          "base_uri": "https://localhost:8080/",
          "height": 376
        }
      },
      "cell_type": "code",
      "source": [
        "n_iters = 20\n",
        "import time\n",
        "incumbent_trajectory = []  # keeps track of the incumbent after each iterations\n",
        "runtime_trajectory = []   # saves the runtime after each interation\n",
        "t_time = []\n",
        "current_incumbent = 1\n",
        "\n",
        "\n",
        "\n",
        "\n",
        "\n",
        "t_x=[]\n",
        "t_y=[]    \n",
        "   \n",
        "start_time = time.time()\n",
        "for i in range(n_iters):\n",
        "    cycle_time = time.time()\n",
        "    \n",
        "    x_1,_ = optimizer.optimize(ei)\n",
        "    # TODO: evaluate objective function and estimate the training time\n",
        "    \n",
        "    y_1 = objective_function(x_1[0])\n",
        "    t_time.append(time.time()- cycle_time)\n",
        "    \n",
        "    \n",
        "    t_x.append(x_1)\n",
        "    t_y.append(y_1)\n",
        "    \n",
        "    T=np.append(X_init, t_x)\n",
        "    X = np.array([T])\n",
        "    X =np.reshape(X,((n_init+1)+i,5))\n",
        "    \n",
        "    D=np.append(Y_init, t_y)  \n",
        "    Y = np.array([D]) \n",
        "    Y =np.reshape(D,(len(D),1))\n",
        "    \n",
        "    \n",
        "    \n",
        "    gp.set_data(X, Y)\n",
        "    \n",
        "    \n",
        "    \n",
        "    if (Y.min()>current_incumbent):\n",
        "        incumbent_trajectory.append(current_incumbent) \n",
        "    incumbent_trajectory.append(Y.min())\n",
        "    runtime_trajectory.append(time.time() - start_time)\n",
        "    \n",
        "    \n",
        "\n",
        "    \n",
        "plt.plot(runtime_trajectory, incumbent_trajectory)\n",
        "\n",
        "plt.xlabel(\"estimated runtime (seconds)\")\n",
        "plt.ylabel(\"validation error\")\n",
        "plt.grid(True)\n",
        "plt.title(\"Bayesian Optimization\")\n",
        "plt.show()"
      ],
      "execution_count": 186,
      "outputs": [
        {
          "output_type": "display_data",
          "data": {
            "image/png": "[encoded data removed]",
            "text/plain": [
              "<matplotlib.figure.Figure at 0x7f160eb33a58>"
            ]
          },
          "metadata": {
            "tags": []
          }
        }
      ]
    },
    {
      "metadata": {
        "id": "2kD3JC_-2C1w",
        "colab_type": "text"
      },
      "cell_type": "markdown",
      "source": [
        "# Hyperband"
      ]
    },
    {
      "metadata": {
        "id": "CUzxkL9h2C14",
        "colab_type": "text"
      },
      "cell_type": "markdown",
      "source": [
        "In the lecture we saw that we often have access to cheap approximations of the objective function, called fidelities. Here, we will use the learning curve, i e. the validation error after each epoch, as fidelity to speed up the optimization process.\n",
        "This part of the exercise is inspired from Kevin Jamieson's [tutorial](http://people.eecs.berkeley.edu/~kjamieson/hyperband.html). I highly recommend to check it out to gain a better understanding of Hyperband and successive halving."
      ]
    },
    {
      "metadata": {
        "id": "0yZrJElH2C16",
        "colab_type": "text"
      },
      "cell_type": "markdown",
      "source": [
        "Instead of maintaining a model as in Bayesian optimization, Hyperband samples configurations randomly. Thus, the first bit we are going to implement is a function that returns a random hyperparameter configuration sampled from a uniform distribution over the same configuration space as above."
      ]
    },
    {
      "metadata": {
        "id": "1kqrfF7E2C17",
        "colab_type": "code",
        "colab": {}
      },
      "cell_type": "code",
      "source": [
        "def get_random_hyperparameter_configuration():\n",
        "    # TODO: draw and return a random configuation \n",
        "    \n",
        "    rf_1=RandomDesign(space)\n",
        "    x = RandomDesign.get_samples(rf_1,1)\n",
        "\n",
        "    \n",
        "    return x"
      ],
      "execution_count": 0,
      "outputs": []
    },
    {
      "metadata": {
        "id": "S1XcuQ6B2C2B",
        "colab_type": "text"
      },
      "cell_type": "markdown",
      "source": [
        "Successive halving is a simple bandit strategy to allocate resources to a fixed set of configurations.\n",
        "Given a set of $N$ configurations, it ranks them based on their performance on the minimum budget and continues only the top $\\eta^{-1}$ configurations on a budget which is $\\eta$ times larger.\n",
        "\n",
        "Hyperbands combines random search with successive halving to balance very aggressive evaluation with many configurations on the smallest budget and very conservative runs on the maximum budget.\n",
        "For that, in each iteration, called bracket, of its outer loop, Hyperband runs successive halving with alternating number of configurations and budgets."
      ]
    },
    {
      "metadata": {
        "id": "mQbqWLRt2C2D",
        "colab_type": "code",
        "colab": {}
      },
      "cell_type": "code",
      "source": [
        "def successive_halving(n, r, s):\n",
        "    \"\"\"\n",
        "    Run one iteration of successive halving\n",
        "    :param n: initial number of hyperparameter configurations\n",
        "    :param r: initial number of iterations \n",
        "    :param s: defines the tradeoff between r and n\n",
        "    \"\"\"\n",
        "    T = [ get_random_hyperparameter_configuration() for i in range(n) ] \n",
        "    for i in range(s+1):\n",
        "        val_losses = []\n",
        "        # TODO compute the number of configs n_i and epochs r_i\n",
        "    \n",
        "        # Run each of the n_i configs for r_i iterations and keep best n_i/eta\n",
        "        n_i = n*eta**(-i)\n",
        "        r_i = r*eta**(i)\n",
        "        \n",
        "         \n",
        "        for j in T:\n",
        "            val_losses.append(objective_function(j[0],r_i))     \n",
        "        plt.scatter(np.ones(len(val_losses)) * r_i, val_losses)          \n",
        "        \n",
        "        T = [ T[i] for i in np.argsort(val_losses)[0:int( n_i/eta )] ]\n",
        "            \n",
        "        plt.scatter(np.ones(len(val_losses)) * r_i, val_losses)\n",
        "            \n",
        "       "
      ],
      "execution_count": 0,
      "outputs": []
    },
    {
      "metadata": {
        "id": "xl0jnthx2C2I",
        "colab_type": "code",
        "colab": {
          "base_uri": "https://localhost:8080/",
          "height": 1453
        },
        "outputId": "4636f504-8cb2-4b91-cdb6-977c19e5ae47"
      },
      "cell_type": "code",
      "source": [
        "import math\n",
        "\n",
        "max_iter = 40  # maximum iterations/epochs per configuration\n",
        "eta = 3 # defines downsampling rate (default=3)\n",
        "s_max = int(np.log(max_iter)/np.log(eta))  # number of unique executions of Successive Halving (minus one)\n",
        "B = (s_max+1)*max_iter  # total number of iterations (without reuse) per execution of Succesive Halving (n,r)\n",
        "\n",
        "\n",
        "for s in reversed(range(s_max+1)):\n",
        "    \n",
        "    # TODO: compute initial number of configurations and initial number to run configurations for\n",
        "\n",
        "    # run successive halving\n",
        "    n = int(math.ceil(int(B/max_iter/(s+1))*eta**s)) # initial number of configurations\n",
        "    r = max_iter*eta**(-s) # initial number of iterations to run configurations for\n",
        "    successive_halving(n, r, s)\n",
        "    plt.xlabel(\"epochs\")\n",
        "    plt.ylabel(\"validation error\")\n",
        "    plt.grid(True)\n",
        "    plt.title(\"successive halving\")\n",
        "    plt.xlim(0, 41)\n",
        "    plt.show()"
      ],
      "execution_count": 180,
      "outputs": [
        {
          "output_type": "display_data",
          "data": {
            "image/png": "[encoded data removed]",
            "text/plain": [
              "<matplotlib.figure.Figure at 0x7f16049d5a58>"
            ]
          },
          "metadata": {
            "tags": []
          }
        },
        {
          "output_type": "display_data",
          "data": {
            "image/png": "[encoded data removed]",
            "text/plain": [
              "<matplotlib.figure.Figure at 0x7f16064ecb70>"
            ]
          },
          "metadata": {
            "tags": []
          }
        },
        {
          "output_type": "display_data",
          "data": {
            "image/png": "[encoded data removed]",
            "text/plain": [
              "<matplotlib.figure.Figure at 0x7f16063815f8>"
            ]
          },
          "metadata": {
            "tags": []
          }
        },
        {
          "output_type": "display_data",
          "data": {
            "image/png": "[encoded data removed]",
            "text/plain": [
              "<matplotlib.figure.Figure at 0x7f16048afda0>"
            ]
          },
          "metadata": {
            "tags": []
          }
        }
      ]
    },
    {
      "metadata": {
        "id": "VPoFq6m22C2O",
        "colab_type": "text"
      },
      "cell_type": "markdown",
      "source": [
        "# Combining Bayesian optimization with Hyperband"
      ]
    },
    {
      "metadata": {
        "id": "MaII3yI52C2Q",
        "colab_type": "text"
      },
      "cell_type": "markdown",
      "source": [
        "One of the weaknesses of Hyperband is that it draws configurations randomly and hence might take exponentially long to approach the global optimum. In the last part of the exercise, we will combine Hyperband with a kernel density estimator that models the distribution of the good and the bad configurations in the input space. By sampling from this model instead of a uniform distribution we can find good configurations much faster.\n",
        "\n",
        "To implement the kernel density estimator we will use [statsmodel](http://www.statsmodels.org/stable/index.html). In the original implementation of the tree parzen estimator [TPE](http://jaberg.github.io/hyperopt/), they fitted a univariate kernel density estimator for each dimension independently. Even though this allows to quickly train a model it is not able to capture interactions between hyperparameters. Instead, we will use a [multivariate kernel density estimator](http://www.statsmodels.org/stable/generated/statsmodels.nonparametric.kernel_density.KDEMultivariate.html#statsmodels.nonparametric.kernel_density.KDEMultivariate) that fits a distribution over the whole input space."
      ]
    },
    {
      "metadata": {
        "id": "qKolZkuX2C2S",
        "colab_type": "code",
        "colab": {
          "base_uri": "https://localhost:8080/",
          "height": 129
        },
        "outputId": "8bd946e3-c27b-4709-92d3-ebf2a23e667c"
      },
      "cell_type": "code",
      "source": [
        "import statsmodels.api as sm\n",
        "import scipy.stats as sps\n",
        "!pip install hyperopt\n",
        "\n",
        "def sample(num_samples=64, random_fraction=1/3, min_bandwidth=1e-3):\n",
        "    \"\"\"\n",
        "    Samples one configuration either randomly or by optimizing expected improvement\n",
        "    \n",
        "    :param num_samples: number of samples to optimize expected improvement\n",
        "    :param random_fraction: fraction of configuration that will be sampled randomly\n",
        "    :param min_bandwith: minimum allowed bandwith for the kernel density estimator\n",
        "\n",
        "    \n",
        "    :return: hyperparameter configuration, boolean flag that indicated whether the configuration was sampled based on the model or not\n",
        "    \"\"\"\n",
        "    # TODO: if no model is available, sample randomly also mix in a fraction (random_fraction) of random configs\n",
        "    \n",
        "    # TODO: estimate the largest budget for which we have a model\n",
        "    \n",
        "    # define EI acquisition function\n",
        "    l = kde_models[budget]['good'].pdf\n",
        "    g = kde_models[budget]['bad' ].pdf\n",
        "    negative_ei = lambda x: max(1e-32, g(x))/max(l(x),1e-32)  # The acquisition function is always maximized, but since we minimze here we put a minus in fron\n",
        "\n",
        "    kde_good = kde_models[budget]['good']\n",
        "    kde_bad = kde_models[budget]['bad']\n",
        "\n",
        "    # draw num_samples samples\n",
        "    for i in range(num_samples):\n",
        "        \n",
        "        # TODO: sample random training data point from the good configurations\n",
        "\n",
        "        # TODO: take the training data point as the mean and the KDE bandwidth as std and sample from a multivariate Normal\n",
        "\n",
        "        # TODO: compute the EI acquisition function\n",
        "            \n",
        "    # TODO: return the best sample with the highest EI value\n",
        "    return best_sample, True\n",
        "\n",
        "\n",
        "def update(budget, x, y, min_points_in_model=5, top_n_percent=15, min_bandwidth=1e-3):\n",
        "    \"\"\"\n",
        "    Add new observed x, y to the already collected data on this budget and\n",
        "    if possible updates the kernel density estimator for the corresponding budget.\n",
        "    \n",
        "    :param budget: on which budget the hyperparameter configuration was observed\n",
        "    :param x: the new observed hyperparameter configuration\n",
        "    :param y: the corresponding loss\n",
        "    :param min_points_in_model: the minimum number of datapoint that are need to fit a KDE\n",
        "    :param top_n_percent: specifies how many percent of the best configurations will be used to train the KDE for the good configurations\n",
        "    :param min_bandwith: minimum allowed bandwith for the kernel density estimator\n",
        "    \"\"\"\n",
        "    # check if we have already data points for this budget collected\n",
        "    if budget not in configs.keys():\n",
        "        configs[budget] = []\n",
        "        losses[budget] = []\n",
        "\n",
        "    # store configuration and loss\n",
        "    configs[budget].append(x)\n",
        "    losses[budget].append(y)\n",
        "\n",
        "    # skip model building if not enough points are available\n",
        "    if len(configs[budget]) <= min_points_in_model-1:\n",
        "        return\n",
        "\n",
        "    # TODO: split the data points into good configurations, top N percent and the bad configurations\n",
        "    \n",
        "    # TODO: refit KDE for the current budget\n",
        "    "
      ],
      "execution_count": 182,
      "outputs": [
        {
          "output_type": "error",
          "ename": "IndentationError",
          "evalue": "ignored",
          "traceback": [
            "\u001b[0;36m  File \u001b[0;32m\"<ipython-input-182-6f772658f98a>\"\u001b[0;36m, line \u001b[0;32m38\u001b[0m\n\u001b[0;31m    return best_sample, True\u001b[0m\n\u001b[0m         ^\u001b[0m\n\u001b[0;31mIndentationError\u001b[0m\u001b[0;31m:\u001b[0m expected an indented block\n"
          ]
        }
      ]
    },
    {
      "metadata": {
        "id": "QnTOTJsU2C2X",
        "colab_type": "text"
      },
      "cell_type": "markdown",
      "source": [
        "Now we can run BOHB (Bayesian optimization and Hyperband) where, given enough data, we select new configurations based on our model. After running BOHB we can plot again the incumbent trajectory and visualize for each configuration whether it was sampled randomly or from our model. You should see configuration suggested by our model are on average better than random configurations."
      ]
    },
    {
      "metadata": {
        "id": "WnN1B1Le2C2Y",
        "colab_type": "code",
        "colab": {}
      },
      "cell_type": "code",
      "source": [
        "max_iter = 40  # maximum iterations/epochs per configuration\n",
        "eta = 3 # defines downsampling rate (default=3)\n",
        "s_max = int(np.log(max_iter)/np.log(eta))  # number of unique executions of Successive Halving (minus one)\n",
        "B = (s_max+1)*max_iter  # total number of iterations (without reuse) per execution of successive halving (n,r)\n",
        "\n",
        "# for visualization purposes only\n",
        "runtime_trajectory = []\n",
        "loss_over_time = []\n",
        "sampled_from_model = []\n",
        "current_time = 0\n",
        "\n",
        "# dictionaries for bookkeeping: the keys will be the corresponding budgets\n",
        "configs = dict()\n",
        "losses = dict()\n",
        "kde_models = dict()\n",
        "\n",
        "# Run K brackets of successive halving with different n and r\n",
        "for k in range(12):\n",
        "\n",
        "    s = int(np.arange(s_max + 1)[::-1][k % (s_max+1)])\n",
        "    n = int(np.ceil(int(B/max_iter/(s+1))*eta**s)) # initial number of configurations\n",
        "    r = max_iter*eta**(-s) # initial number of iterations to run configurations for\n",
        "\n",
        "    for i in range(s+1):\n",
        "\n",
        "        # Run each of the n_i configs for r_i iterations and keep best n_i/eta\n",
        "        n_i = n*eta**(-i)\n",
        "        r_i = r*eta**(i)\n",
        "        val_losses = []\n",
        "        T = []\n",
        "        for j in range(n):\n",
        "            x_new, from_model = sample()\n",
        "            y_new = objective_function(x_new, epoch=r_i)        \n",
        "            \n",
        "            c_new = runtime(x_new, epoch=r_i)      \n",
        "            \n",
        "            current_time += c_new\n",
        "            sampled_from_model.append(from_model)\n",
        "            runtime_trajectory.append(current_time)\n",
        "            loss_over_time.append(y_new)\n",
        "            \n",
        "            val_losses.append(y_new)\n",
        "            T.append(x_new)\n",
        "            update(r_i, x_new, y_new)\n",
        "            plt.scatter(np.ones(len(val_losses)) * r_i, val_losses)\n",
        "\n",
        "\n",
        "            \n",
        "        T = [ T[i] for i in np.argsort(val_losses)[0:int( n_i/eta )] ]\n",
        "        \n",
        "    plt.xlabel(\"epochs\")\n",
        "    plt.ylabel(\"validation error\")\n",
        "    plt.grid(True)\n",
        "    plt.title(\"successive halving\")\n",
        "    plt.xlim(0, 41)\n",
        "    plt.show()"
      ],
      "execution_count": 0,
      "outputs": []
    },
    {
      "metadata": {
        "id": "gL16q5mu2C2h",
        "colab_type": "code",
        "colab": {}
      },
      "cell_type": "code",
      "source": [
        "plt.scatter(np.array(runtime_trajectory)[sampled_from_model], np.array(loss_over_time)[sampled_from_model], label=\"model\")\n",
        "not_sampled_from_model = [not i for i in sampled_from_model]\n",
        "\n",
        "plt.scatter(np.array(runtime_trajectory)[not_sampled_from_model], np.array(loss_over_time)[not_sampled_from_model], label=\"random\")\n",
        "\n",
        "plt.ylim(0, 1)\n",
        "plt.grid(True)\n",
        "plt.legend()\n",
        "plt.ylabel(\"validation error\")\n",
        "plt.xlabel(\"runtime (seconds)\")"
      ],
      "execution_count": 0,
      "outputs": []
    }
  ]
}